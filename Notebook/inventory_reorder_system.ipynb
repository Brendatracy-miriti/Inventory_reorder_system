{
 "cells": [
  {
   "cell_type": "markdown",
   "id": "fcbd771c",
   "metadata": {},
   "source": [
    " # Project Overview\n",
    "\n",
    "This capstone project implements a data-driven system to optimize inventory management. It replaces static, rule-based reordering policies with a dynamic, predictive engine that forecasts future demand and calculates the optimal Reorder Point (ROP) and Reorder Quantity (ROQ) for each product.\n",
    "\n",
    "The goal is to minimize total inventory costs by balancing the reduction of costly stockouts (lost sales) against the minimization of expensive holding costs (storage, capital tied up)."
   ]
  },
  {
   "cell_type": "markdown",
   "id": "0579c17a",
   "metadata": {},
   "source": [
    "# 1. Import Libraries"
   ]
  },
  {
   "cell_type": "code",
   "execution_count": 3,
   "id": "19888d4b",
   "metadata": {},
   "outputs": [
    {
     "name": "stdout",
     "output_type": "stream",
     "text": [
      "Defaulting to user installation because normal site-packages is not writeable\n",
      "Requirement already satisfied: statsmodels in c:\\users\\user\\appdata\\roaming\\python\\python313\\site-packages (0.14.5)\n",
      "Requirement already satisfied: numpy<3,>=1.22.3 in c:\\users\\user\\appdata\\roaming\\python\\python313\\site-packages (from statsmodels) (2.3.4)\n",
      "Requirement already satisfied: scipy!=1.9.2,>=1.8 in c:\\users\\user\\appdata\\roaming\\python\\python313\\site-packages (from statsmodels) (1.16.2)\n",
      "Requirement already satisfied: pandas!=2.1.0,>=1.4 in c:\\users\\user\\appdata\\roaming\\python\\python313\\site-packages (from statsmodels) (2.3.3)\n",
      "Requirement already satisfied: patsy>=0.5.6 in c:\\users\\user\\appdata\\roaming\\python\\python313\\site-packages (from statsmodels) (1.0.2)\n",
      "Requirement already satisfied: packaging>=21.3 in c:\\users\\user\\appdata\\roaming\\python\\python313\\site-packages (from statsmodels) (25.0)\n",
      "Requirement already satisfied: python-dateutil>=2.8.2 in c:\\users\\user\\appdata\\roaming\\python\\python313\\site-packages (from pandas!=2.1.0,>=1.4->statsmodels) (2.9.0.post0)\n",
      "Requirement already satisfied: pytz>=2020.1 in c:\\users\\user\\appdata\\roaming\\python\\python313\\site-packages (from pandas!=2.1.0,>=1.4->statsmodels) (2025.2)\n",
      "Requirement already satisfied: tzdata>=2022.7 in c:\\users\\user\\appdata\\roaming\\python\\python313\\site-packages (from pandas!=2.1.0,>=1.4->statsmodels) (2025.2)\n",
      "Requirement already satisfied: six>=1.5 in c:\\users\\user\\appdata\\roaming\\python\\python313\\site-packages (from python-dateutil>=2.8.2->pandas!=2.1.0,>=1.4->statsmodels) (1.17.0)\n"
     ]
    },
    {
     "name": "stderr",
     "output_type": "stream",
     "text": [
      "\n",
      "[notice] A new release of pip is available: 25.2 -> 25.3\n",
      "[notice] To update, run: C:\\Python313\\python.exe -m pip install --upgrade pip\n"
     ]
    }
   ],
   "source": [
    "# Install Statsmodels\n",
    "! pip install statsmodels"
   ]
  },
  {
   "cell_type": "code",
   "execution_count": 4,
   "id": "83d9eca6",
   "metadata": {},
   "outputs": [
    {
     "name": "stderr",
     "output_type": "stream",
     "text": [
      "c:\\Users\\USER\\AppData\\Local\\Programs\\Python\\Python312\\Lib\\site-packages\\seaborn\\_statistics.py:32: UserWarning: A NumPy version >=1.23.5 and <2.3.0 is required for this version of SciPy (detected version 2.3.4)\n",
      "  from scipy.stats import gaussian_kde\n"
     ]
    }
   ],
   "source": [
    "import numpy as np\n",
    "import pandas as pd\n",
    "import matplotlib.pyplot as plt\n",
    "import seaborn as sns\n",
    "import scipy.stats as stats\n",
    "\n",
    "from sklearn.model_selection import train_test_split\n",
    "from sklearn.preprocessing import StandardScaler, LabelEncoder\n",
    "from sklearn.linear_model import LinearRegression, Ridge, Lasso\n",
    "from sklearn.metrics import mean_squared_error, r2_score, mean_absolute_error, explained_variance_score, mean_absolute_percentage_error\n",
    "from sklearn.pipeline import Pipeline\n",
    "from sklearn.compose import ColumnTransformer\n",
    "from sklearn.impute import SimpleImputer\n",
    "from sklearn.feature_selection import RFE\n",
    "from sklearn.ensemble import RandomForestRegressor, GradientBoostingRegressor\n",
    "from sklearn.svm import SVR, LinearSVR\n",
    "\n"
   ]
  },
  {
   "cell_type": "markdown",
   "id": "e8cecfc0",
   "metadata": {},
   "source": [
    "# 2. Load Data"
   ]
  },
  {
   "cell_type": "code",
   "execution_count": 23,
   "id": "a391aae4",
   "metadata": {},
   "outputs": [
    {
     "data": {
      "text/html": [
       "<div>\n",
       "<style scoped>\n",
       "    .dataframe tbody tr th:only-of-type {\n",
       "        vertical-align: middle;\n",
       "    }\n",
       "\n",
       "    .dataframe tbody tr th {\n",
       "        vertical-align: top;\n",
       "    }\n",
       "\n",
       "    .dataframe thead th {\n",
       "        text-align: right;\n",
       "    }\n",
       "</style>\n",
       "<table border=\"1\" class=\"dataframe\">\n",
       "  <thead>\n",
       "    <tr style=\"text-align: right;\">\n",
       "      <th></th>\n",
       "      <th>Date</th>\n",
       "      <th>Store ID</th>\n",
       "      <th>Product ID</th>\n",
       "      <th>Category</th>\n",
       "      <th>Region</th>\n",
       "      <th>Inventory Level</th>\n",
       "      <th>Units Sold</th>\n",
       "      <th>Units Ordered</th>\n",
       "      <th>Demand Forecast</th>\n",
       "      <th>Price</th>\n",
       "      <th>Discount</th>\n",
       "      <th>Weather Condition</th>\n",
       "      <th>Holiday/Promotion</th>\n",
       "      <th>Competitor Pricing</th>\n",
       "      <th>Seasonality</th>\n",
       "    </tr>\n",
       "  </thead>\n",
       "  <tbody>\n",
       "    <tr>\n",
       "      <th>0</th>\n",
       "      <td>2022-01-01</td>\n",
       "      <td>S001</td>\n",
       "      <td>P0001</td>\n",
       "      <td>Groceries</td>\n",
       "      <td>North</td>\n",
       "      <td>231</td>\n",
       "      <td>127</td>\n",
       "      <td>55</td>\n",
       "      <td>135.47</td>\n",
       "      <td>33.50</td>\n",
       "      <td>20</td>\n",
       "      <td>Rainy</td>\n",
       "      <td>0</td>\n",
       "      <td>29.69</td>\n",
       "      <td>Autumn</td>\n",
       "    </tr>\n",
       "    <tr>\n",
       "      <th>1</th>\n",
       "      <td>2022-01-01</td>\n",
       "      <td>S001</td>\n",
       "      <td>P0002</td>\n",
       "      <td>Toys</td>\n",
       "      <td>South</td>\n",
       "      <td>204</td>\n",
       "      <td>150</td>\n",
       "      <td>66</td>\n",
       "      <td>144.04</td>\n",
       "      <td>63.01</td>\n",
       "      <td>20</td>\n",
       "      <td>Sunny</td>\n",
       "      <td>0</td>\n",
       "      <td>66.16</td>\n",
       "      <td>Autumn</td>\n",
       "    </tr>\n",
       "    <tr>\n",
       "      <th>2</th>\n",
       "      <td>2022-01-01</td>\n",
       "      <td>S001</td>\n",
       "      <td>P0003</td>\n",
       "      <td>Toys</td>\n",
       "      <td>West</td>\n",
       "      <td>102</td>\n",
       "      <td>65</td>\n",
       "      <td>51</td>\n",
       "      <td>74.02</td>\n",
       "      <td>27.99</td>\n",
       "      <td>10</td>\n",
       "      <td>Sunny</td>\n",
       "      <td>1</td>\n",
       "      <td>31.32</td>\n",
       "      <td>Summer</td>\n",
       "    </tr>\n",
       "    <tr>\n",
       "      <th>3</th>\n",
       "      <td>2022-01-01</td>\n",
       "      <td>S001</td>\n",
       "      <td>P0004</td>\n",
       "      <td>Toys</td>\n",
       "      <td>North</td>\n",
       "      <td>469</td>\n",
       "      <td>61</td>\n",
       "      <td>164</td>\n",
       "      <td>62.18</td>\n",
       "      <td>32.72</td>\n",
       "      <td>10</td>\n",
       "      <td>Cloudy</td>\n",
       "      <td>1</td>\n",
       "      <td>34.74</td>\n",
       "      <td>Autumn</td>\n",
       "    </tr>\n",
       "    <tr>\n",
       "      <th>4</th>\n",
       "      <td>2022-01-01</td>\n",
       "      <td>S001</td>\n",
       "      <td>P0005</td>\n",
       "      <td>Electronics</td>\n",
       "      <td>East</td>\n",
       "      <td>166</td>\n",
       "      <td>14</td>\n",
       "      <td>135</td>\n",
       "      <td>9.26</td>\n",
       "      <td>73.64</td>\n",
       "      <td>0</td>\n",
       "      <td>Sunny</td>\n",
       "      <td>0</td>\n",
       "      <td>68.95</td>\n",
       "      <td>Summer</td>\n",
       "    </tr>\n",
       "  </tbody>\n",
       "</table>\n",
       "</div>"
      ],
      "text/plain": [
       "         Date Store ID Product ID     Category Region  Inventory Level  \\\n",
       "0  2022-01-01     S001      P0001    Groceries  North              231   \n",
       "1  2022-01-01     S001      P0002         Toys  South              204   \n",
       "2  2022-01-01     S001      P0003         Toys   West              102   \n",
       "3  2022-01-01     S001      P0004         Toys  North              469   \n",
       "4  2022-01-01     S001      P0005  Electronics   East              166   \n",
       "\n",
       "   Units Sold  Units Ordered  Demand Forecast  Price  Discount  \\\n",
       "0         127             55           135.47  33.50        20   \n",
       "1         150             66           144.04  63.01        20   \n",
       "2          65             51            74.02  27.99        10   \n",
       "3          61            164            62.18  32.72        10   \n",
       "4          14            135             9.26  73.64         0   \n",
       "\n",
       "  Weather Condition  Holiday/Promotion  Competitor Pricing Seasonality  \n",
       "0             Rainy                  0               29.69      Autumn  \n",
       "1             Sunny                  0               66.16      Autumn  \n",
       "2             Sunny                  1               31.32      Summer  \n",
       "3            Cloudy                  1               34.74      Autumn  \n",
       "4             Sunny                  0               68.95      Summer  "
      ]
     },
     "execution_count": 23,
     "metadata": {},
     "output_type": "execute_result"
    }
   ],
   "source": [
    "data = pd.read_csv('retail_store_inventory.csv')\n",
    "data.head()\n"
   ]
  },
  {
   "cell_type": "code",
   "execution_count": 24,
   "id": "246270fa",
   "metadata": {},
   "outputs": [
    {
     "name": "stdout",
     "output_type": "stream",
     "text": [
      "<class 'pandas.core.frame.DataFrame'>\n",
      "RangeIndex: 73100 entries, 0 to 73099\n",
      "Data columns (total 15 columns):\n",
      " #   Column              Non-Null Count  Dtype  \n",
      "---  ------              --------------  -----  \n",
      " 0   Date                73100 non-null  object \n",
      " 1   Store ID            73100 non-null  object \n",
      " 2   Product ID          73100 non-null  object \n",
      " 3   Category            73100 non-null  object \n",
      " 4   Region              73100 non-null  object \n",
      " 5   Inventory Level     73100 non-null  int64  \n",
      " 6   Units Sold          73100 non-null  int64  \n",
      " 7   Units Ordered       73100 non-null  int64  \n",
      " 8   Demand Forecast     73100 non-null  float64\n",
      " 9   Price               73100 non-null  float64\n",
      " 10  Discount            73100 non-null  int64  \n",
      " 11  Weather Condition   73100 non-null  object \n",
      " 12  Holiday/Promotion   73100 non-null  int64  \n",
      " 13  Competitor Pricing  73100 non-null  float64\n",
      " 14  Seasonality         73100 non-null  object \n",
      "dtypes: float64(3), int64(5), object(7)\n",
      "memory usage: 8.4+ MB\n"
     ]
    }
   ],
   "source": [
    "#check the columns and data types\n",
    "data.info()"
   ]
  },
  {
   "cell_type": "markdown",
   "id": "8d787f4f",
   "metadata": {},
   "source": [
    "- No missing values in my data"
   ]
  },
  {
   "cell_type": "code",
   "execution_count": 27,
   "id": "8bc18202",
   "metadata": {},
   "outputs": [
    {
     "data": {
      "text/plain": [
       "Index(['Date', 'Store ID', 'Product ID', 'Category', 'Region',\n",
       "       'Inventory Level', 'Units Sold', 'Units Ordered', 'Demand Forecast',\n",
       "       'Price', 'Discount', 'Weather Condition', 'Holiday/Promotion',\n",
       "       'Competitor Pricing', 'Seasonality', 'SKU_Compound_ID'],\n",
       "      dtype='object')"
      ]
     },
     "execution_count": 27,
     "metadata": {},
     "output_type": "execute_result"
    }
   ],
   "source": [
    "data.columns"
   ]
  },
  {
   "cell_type": "markdown",
   "id": "1db39a9b",
   "metadata": {},
   "source": [
    "# 3. Data Preparation and Feature Engineering"
   ]
  },
  {
   "cell_type": "code",
   "execution_count": 25,
   "id": "050a0cad",
   "metadata": {},
   "outputs": [],
   "source": [
    "# Convert 'Date' to datetime and create 'SKU_Compound_ID'\n",
    "data['Date'] = pd.to_datetime(data['Date'])\n",
    "data['SKU_Compound_ID'] = data['Store ID'] + '_'+ data['Product ID']"
   ]
  },
  {
   "cell_type": "code",
   "execution_count": 26,
   "id": "481150b4",
   "metadata": {},
   "outputs": [],
   "source": [
    "data.sort_values(by = ['SKU_Compound_ID', 'Date'], inplace=True)"
   ]
  },
  {
   "cell_type": "code",
   "execution_count": 2,
   "id": "d085eae2",
   "metadata": {},
   "outputs": [],
   "source": [
    "# Define a helper function to shift the series before calculating rolling features\n",
    "# This prevents data leakage by ensuring that the rolling calculations do not include the current day's data\n",
    "def create_rolling_feature(series, window, func):\n",
    "        return series.shift(1).rolling(window=window).apply(func, raw=True)"
   ]
  },
  {
   "cell_type": "code",
   "execution_count": null,
   "id": "299b0e15",
   "metadata": {},
   "outputs": [],
   "source": [
    "# Lagged Demand \n",
    "data['demand_lag_7'] = data.groupby('SKU_Compound_ID')['Units Sold'].shift(7)\n",
    "data['demand_lag_14'] = data.groupby('SKU_Compound_ID')['Units Sold'].shift(14)\n",
    "data['demand_lag_30'] = data.groupby('SKU_Compound_ID')['Units Sold'].shift(30)\n"
   ]
  },
  {
   "cell_type": "code",
   "execution_count": null,
   "id": "3708fe23",
   "metadata": {},
   "outputs": [],
   "source": [
    "# Rolling Mean and Std Dev Features\n",
    "data['RollingMean_7'] = create_rolling_feature(data.groupby('SKU_Compound_ID')['Units Sold'], 7, np.mean)\n",
    "data['RollingStd_7'] = create_rolling_feature(data.groupby('SKU_Compound_ID')['Units Sold'], 7, np.std)"
   ]
  },
  {
   "cell_type": "code",
   "execution_count": 30,
   "id": "f434375c",
   "metadata": {},
   "outputs": [],
   "source": [
    "data['RollingMean_14'] = create_rolling_feature(data.groupby('SKU_Compound_ID')['Units Sold'], 14, np.mean)\n",
    "data['RollingStd_14'] = create_rolling_feature(data.groupby('SKU_Compound_ID')['Units Sold'], 14, np.std)\n",
    "\n",
    "data['RollingMean_30'] = create_rolling_feature(data.groupby('SKU_Compound_ID')['Units Sold'], 30, np.mean)\n",
    "data['RollingStd_30'] = create_rolling_feature(data.groupby('SKU_Compound_ID')['Units Sold'], 30, np.std)"
   ]
  }
 ],
 "metadata": {
  "kernelspec": {
   "display_name": "Python 3",
   "language": "python",
   "name": "python3"
  },
  "language_info": {
   "codemirror_mode": {
    "name": "ipython",
    "version": 3
   },
   "file_extension": ".py",
   "mimetype": "text/x-python",
   "name": "python",
   "nbconvert_exporter": "python",
   "pygments_lexer": "ipython3",
   "version": "3.12.3"
  }
 },
 "nbformat": 4,
 "nbformat_minor": 5
}
